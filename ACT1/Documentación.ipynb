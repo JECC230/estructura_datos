{
  "cells": [
    {
      "cell_type": "markdown",
      "metadata": {
        "id": "nNjckYefGaSC"
      },
      "source": [
        "# Act1  \n",
        "**Juan Esteban Campos Cruz**  \n",
        "**al05064315**  \n",
        "**Estructura de datos**  \n",
        "\n",
        "## Descripción  \n",
        "\n",
        "El programa implementa diferentes tipos de listas enlazadas (simplemente enlazadas, doblemente enlazadas y circulares) en Java, permitiendo realizar operaciones básicas como inserción, eliminación, búsqueda y visualización de elementos.  \n",
        "\n",
        "El sistema incluye un menú interactivo para que los usuarios puedan seleccionar el tipo de lista y realizar operaciones, además de demostraciones con diferentes tipos de datos.  \n",
        "\n",
        "## Objetivo  \n",
        "\n",
        "Aplicar conocimientos de estructuras de datos dinámicas, tipos de datos y programación orientada a objetos para implementar y manipular listas enlazadas, mejorando la comprensión de gestión de memoria, referencias entre objetos y manipulación de diversos tipos de datos.  \n",
        "\n",
        "## Diseño del Programa  \n",
        "\n",
        "1. **Estructura de Clases**  \n",
        "   1.1 **Clase Contact**\n"
      ]
    },
    {
      "cell_type": "code",
      "execution_count": null,
      "metadata": {
        "id": "hwGM2ORpGsxN"
      },
      "outputs": [],
      "source": [
        "class Contact {\n",
        "    private String name;\n",
        "    private String phone;\n",
        "    private String address;\n",
        "\n",
        "    public Contact(String name, String phone, String address) {\n",
        "        this.name = name;\n",
        "        this.phone = phone;\n",
        "        this.address = address;\n",
        "    }\n",
        "\n",
        "    @Override\n",
        "    public String toString() {\n",
        "        return \"Contacto{Nombre='\" + name + \"', Teléfono='\" + phone + \"', Dirección='\" + address + \"'}\";\n",
        "    }\n",
        "}"
      ]
    },
    {
      "cell_type": "markdown",
      "metadata": {
        "id": "2oq5lotDGwN1"
      },
      "source": [
        "Representa un contacto con nombre, teléfono y dirección. Es un ejemplo de tipo de dato complejo y abstracto.\n",
        "\n",
        "1.2 Clase Node"
      ]
    },
    {
      "cell_type": "code",
      "execution_count": null,
      "metadata": {
        "id": "HfBvIJPzG0ED"
      },
      "outputs": [],
      "source": [
        "class Node<T> {\n",
        "    T data;\n",
        "    Node<T> next;\n",
        "\n",
        "    public Node(T data) {\n",
        "        this.data = data;\n",
        "        this.next = null;\n",
        "    }\n",
        "}"
      ]
    },
    {
      "cell_type": "markdown",
      "metadata": {
        "id": "7Njx4PXjG15r"
      },
      "source": [
        "Representa un nodo genérico en una lista enlazada, utilizando genéricos (<T>) para almacenar cualquier tipo de dato.\n",
        "\n",
        "1.3 Clase DoublyNode"
      ]
    },
    {
      "cell_type": "code",
      "execution_count": null,
      "metadata": {
        "id": "esDKramSG38x"
      },
      "outputs": [],
      "source": [
        "class DoublyNode<T> extends Node<T> {\n",
        "    DoublyNode<T> prev;\n",
        "\n",
        "    public DoublyNode(T data) {\n",
        "        super(data);\n",
        "        this.prev = null;\n",
        "    }\n",
        "}"
      ]
    },
    {
      "cell_type": "markdown",
      "metadata": {
        "id": "bwjpuCqYG5ep"
      },
      "source": [
        "Extiende Node para representar un nodo en una lista doblemente enlazada, añadiendo una referencia al nodo previo.\n",
        "\n",
        "1.4 Interfaz List"
      ]
    },
    {
      "cell_type": "code",
      "execution_count": null,
      "metadata": {
        "id": "Gpagu31OG7oq"
      },
      "outputs": [],
      "source": [
        "interface List<T> {\n",
        "    void insert(T data);\n",
        "    boolean delete(T data);\n",
        "    Node<T> find(T data);\n",
        "    void display();\n",
        "    boolean isEmpty();\n",
        "}"
      ]
    },
    {
      "cell_type": "markdown",
      "metadata": {
        "id": "3IUmKZT0G9Xc"
      },
      "source": [
        "# Operaciones Básicas\n",
        "\n",
        "Define las operaciones básicas para cualquier tipo de lista.\n",
        "\n",
        "## 2. Implementaciones de Listas\n",
        "\n",
        "### 2.1 Lista Simplemente Enlazada (SinglyLinkedList)\n",
        "\n",
        "- Implementa inserción al final  \n",
        "- Eliminación por valor  \n",
        "- Búsqueda lineal  \n",
        "- Recorrido secuencial  \n",
        "\n",
        "### 2.2 Lista Doblemente Enlazada (DoublyLinkedList)\n",
        "\n",
        "- Inserción al final manteniendo referencia al nodo previo  \n",
        "- Eliminación eficiente tanto de cabeza como de cola  \n",
        "- Búsqueda bidireccional (aunque implementada como unidireccional en este caso)  \n",
        "\n",
        "### 2.3 Lista Circular (CircularLinkedList)\n",
        "\n",
        "- Extiende SinglyLinkedList  \n",
        "- El último nodo apunta al primero  \n",
        "- Manejo especial para inserción y eliminación considerando la circularidad  \n",
        "\n",
        "## 3. Ejemplos de Tipos de Datos (DataTypeExamples)\n",
        "\n",
        "- Tipos primitivos: Demostración con **Integers**  \n",
        "- Tipos complejos: Demostración con **Strings**  \n",
        "- Tipos abstractos: Sistema de gestión de contactos con objetos **Contact**  \n",
        "\n",
        "## 4. Clase Main\n",
        "\n",
        "- Menú interactivo para seleccionar tipo de lista  \n",
        "- Submenú para operaciones sobre la lista seleccionada  \n",
        "- Menú de demostraciones predefinidas  \n",
        "- Manejo de entrada de usuario con validación  \n",
        "\n",
        "# 1. Demostración con Tipos Primitivos (Integer)\n"
      ]
    },
    {
      "cell_type": "code",
      "execution_count": null,
      "metadata": {
        "id": "yjNp9XDUHQ3e"
      },
      "outputs": [],
      "source": [
        "List<Integer> numberList = new SinglyLinkedList<>();\n",
        "numberList.insert(10);\n",
        "numberList.insert(20);\n",
        "numberList.insert(30);\n",
        "numberList.display();\n",
        "numberList.find(20);\n",
        "numberList.delete(20);\n",
        "numberList.display();"
      ]
    },
    {
      "cell_type": "markdown",
      "metadata": {
        "id": "ikEN1NYRHRi5"
      },
      "source": [
        "# 2. Demostración con Tipos Complejos (String)"
      ]
    },
    {
      "cell_type": "code",
      "execution_count": null,
      "metadata": {
        "id": "vXnBOdOfHWKQ"
      },
      "outputs": [],
      "source": [
        "List<String> stringList = new DoublyLinkedList<>();\n",
        "stringList.insert(\"Hola\");\n",
        "stringList.insert(\"Mundo\");\n",
        "stringList.insert(\"Java\");\n",
        "stringList.display();\n",
        "stringList.delete(\"Mundo\");\n",
        "stringList.display();"
      ]
    },
    {
      "cell_type": "markdown",
      "metadata": {
        "id": "qEKBUGZIHiSH"
      },
      "source": [
        "# 3. Sistema de Gestión de Contactos"
      ]
    },
    {
      "cell_type": "code",
      "execution_count": null,
      "metadata": {
        "id": "sHOpphwSHs8Q"
      },
      "outputs": [],
      "source": [
        "List<Contact> contactBook = new CircularLinkedList<>();\n",
        "Contact contact1 = new Contact(\"Ana\", \"555-1234\", \"Calle Falsa 123\");\n",
        "contactBook.insert(contact1);\n",
        "contactBook.display();"
      ]
    },
    {
      "cell_type": "markdown",
      "metadata": {
        "id": "ftUXdq2uHuuX"
      },
      "source": [
        "# Capturas de Pantalla de Ejecución\n",
        "\n",
        "Menú Principal"
      ]
    },
    {
      "cell_type": "code",
      "execution_count": null,
      "metadata": {
        "id": "3XN7bQyZHysh"
      },
      "outputs": [],
      "source": [
        "=============================================\n",
        "  MENÚ PRINCIPAL - ESTRUCTURA DE DATOS\n",
        "=============================================\n",
        "1. Trabajar con Listas Enlazadas\n",
        "2. Ver Demostraciones de Tipos de Datos\n",
        "0. Salir del programa\n",
        "Seleccione una opción:"
      ]
    },
    {
      "cell_type": "markdown",
      "metadata": {
        "id": "xqIrts5lH1V_"
      },
      "source": [
        "Operaciones con Lista Simplemente Enlazada"
      ]
    },
    {
      "cell_type": "code",
      "execution_count": null,
      "metadata": {
        "id": "a_wMYxSaH4dJ"
      },
      "outputs": [],
      "source": [
        "--- Lista Simplemente Enlazada ---\n",
        "[ Hola ] -> [ Mundo ] -> [ Java ] -> null\n",
        "---------------------------------"
      ]
    },
    {
      "cell_type": "markdown",
      "metadata": {
        "id": "MDqadO1sH6Hi"
      },
      "source": [
        "Demostración con Contactos"
      ]
    },
    {
      "cell_type": "code",
      "execution_count": null,
      "metadata": {
        "id": "p3RgEixGH93g"
      },
      "outputs": [],
      "source": [
        "--- Lista Circular ---\n",
        "[ Contacto{Nombre='Ana', Teléfono='555-1234', Dirección='Calle Falsa 123'} ] ->\n",
        "[ Contacto{Nombre='Luis', Teléfono='555-5678', Dirección='Av. Siempre Viva 742'} ] ->\n",
        "(vuelve al inicio)\n",
        "----------------------"
      ]
    },
    {
      "cell_type": "markdown",
      "metadata": {
        "id": "2dQaTd-uH_ua"
      },
      "source": [
        "# Conclusiones\n",
        "\n",
        "El programa cumple con todos los requisitos funcionales:\n",
        "\n",
        "Implementa correctamente los tres tipos de listas enlazadas\n",
        "Realiza todas las operaciones básicas especificadas\n",
        "Maneja diferentes tipos de datos adecuadamente\n",
        "Proporciona una interfaz de usuario clara y funcional\n",
        "El sistema de gestión de contactos demuestra el uso de tipos de datos abstractos\n",
        "Las pruebas realizadas verifican que todas las funcionalidades trabajan como se esperaba, con manejo adecuado de casos especiales como listas vacías o elementos no encontrados."
      ]
    }
  ],
  "metadata": {
    "colab": {
      "provenance": []
    },
    "kernelspec": {
      "display_name": "Python 3",
      "name": "python3"
    },
    "language_info": {
      "name": "python"
    }
  },
  "nbformat": 4,
  "nbformat_minor": 0
}
